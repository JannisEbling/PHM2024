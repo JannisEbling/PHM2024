{
 "cells": [
  {
   "cell_type": "code",
   "execution_count": 1,
   "metadata": {},
   "outputs": [],
   "source": [
    "import os\n",
    "import sys\n",
    "\n",
    "import torch\n",
    "\n",
    "\n",
    "import matplotlib.pyplot as plt\n",
    "import numpy as np\n",
    "from gpytorch.kernels.kernel import dist\n",
    "\n",
    "# import torch\n",
    "from gpytorch.kernels.rbf_kernel import postprocess_rbf\n",
    "\n",
    "# from bench_functions import micha, rose\n",
    "# from botorch_gp import BotorchGp\n",
    "from sklearn.metrics import mean_squared_error\n",
    "model_directory = \"C:/Projekte/DGCN/covnet2\"\n",
    "sys.path.append(model_directory)\n",
    "\n",
    "# Now you can import Model from model.py\n",
    "from model import Model\n",
    "from config import configs\n"
   ]
  },
  {
   "cell_type": "code",
   "execution_count": 2,
   "metadata": {},
   "outputs": [],
   "source": [
    "import pandas as pd\n",
    "X = pd.read_csv(\"C:/Projekte/phm 2024/Data/X_train.csv\")\n",
    "y = pd.read_csv(\"C:/Projekte/phm 2024/Data/y_train.csv\")"
   ]
  },
  {
   "cell_type": "code",
   "execution_count": 3,
   "metadata": {},
   "outputs": [
    {
     "data": {
      "text/html": [
       "<div>\n",
       "<style scoped>\n",
       "    .dataframe tbody tr th:only-of-type {\n",
       "        vertical-align: middle;\n",
       "    }\n",
       "\n",
       "    .dataframe tbody tr th {\n",
       "        vertical-align: top;\n",
       "    }\n",
       "\n",
       "    .dataframe thead th {\n",
       "        text-align: right;\n",
       "    }\n",
       "</style>\n",
       "<table border=\"1\" class=\"dataframe\">\n",
       "  <thead>\n",
       "    <tr style=\"text-align: right;\">\n",
       "      <th></th>\n",
       "      <th>id</th>\n",
       "      <th>trq_measured</th>\n",
       "      <th>oat</th>\n",
       "      <th>mgt</th>\n",
       "      <th>pa</th>\n",
       "      <th>ias</th>\n",
       "      <th>np</th>\n",
       "      <th>ng</th>\n",
       "    </tr>\n",
       "  </thead>\n",
       "  <tbody>\n",
       "    <tr>\n",
       "      <th>0</th>\n",
       "      <td>0</td>\n",
       "      <td>54.100</td>\n",
       "      <td>2.00000</td>\n",
       "      <td>544.5000</td>\n",
       "      <td>212.1408</td>\n",
       "      <td>74.56250</td>\n",
       "      <td>89.18000</td>\n",
       "      <td>99.6400</td>\n",
       "    </tr>\n",
       "    <tr>\n",
       "      <th>1</th>\n",
       "      <td>1</td>\n",
       "      <td>49.625</td>\n",
       "      <td>24.22231</td>\n",
       "      <td>578.4844</td>\n",
       "      <td>1625.6400</td>\n",
       "      <td>30.35596</td>\n",
       "      <td>99.55273</td>\n",
       "      <td>91.3866</td>\n",
       "    </tr>\n",
       "    <tr>\n",
       "      <th>2</th>\n",
       "      <td>2</td>\n",
       "      <td>52.000</td>\n",
       "      <td>7.00000</td>\n",
       "      <td>566.1000</td>\n",
       "      <td>1912.9250</td>\n",
       "      <td>65.62500</td>\n",
       "      <td>100.14000</td>\n",
       "      <td>90.9600</td>\n",
       "    </tr>\n",
       "    <tr>\n",
       "      <th>3</th>\n",
       "      <td>3</td>\n",
       "      <td>62.400</td>\n",
       "      <td>7.25000</td>\n",
       "      <td>560.1000</td>\n",
       "      <td>277.0632</td>\n",
       "      <td>54.81250</td>\n",
       "      <td>90.64000</td>\n",
       "      <td>100.2800</td>\n",
       "    </tr>\n",
       "    <tr>\n",
       "      <th>4</th>\n",
       "      <td>4</td>\n",
       "      <td>62.900</td>\n",
       "      <td>23.25000</td>\n",
       "      <td>593.7000</td>\n",
       "      <td>53.6448</td>\n",
       "      <td>73.43750</td>\n",
       "      <td>99.91000</td>\n",
       "      <td>92.1700</td>\n",
       "    </tr>\n",
       "  </tbody>\n",
       "</table>\n",
       "</div>"
      ],
      "text/plain": [
       "   id  trq_measured       oat       mgt         pa       ias         np  \\\n",
       "0   0        54.100   2.00000  544.5000   212.1408  74.56250   89.18000   \n",
       "1   1        49.625  24.22231  578.4844  1625.6400  30.35596   99.55273   \n",
       "2   2        52.000   7.00000  566.1000  1912.9250  65.62500  100.14000   \n",
       "3   3        62.400   7.25000  560.1000   277.0632  54.81250   90.64000   \n",
       "4   4        62.900  23.25000  593.7000    53.6448  73.43750   99.91000   \n",
       "\n",
       "         ng  \n",
       "0   99.6400  \n",
       "1   91.3866  \n",
       "2   90.9600  \n",
       "3  100.2800  \n",
       "4   92.1700  "
      ]
     },
     "execution_count": 3,
     "metadata": {},
     "output_type": "execute_result"
    }
   ],
   "source": [
    "X.head()"
   ]
  },
  {
   "cell_type": "code",
   "execution_count": 4,
   "metadata": {},
   "outputs": [
    {
     "data": {
      "text/html": [
       "<div>\n",
       "<style scoped>\n",
       "    .dataframe tbody tr th:only-of-type {\n",
       "        vertical-align: middle;\n",
       "    }\n",
       "\n",
       "    .dataframe tbody tr th {\n",
       "        vertical-align: top;\n",
       "    }\n",
       "\n",
       "    .dataframe thead th {\n",
       "        text-align: right;\n",
       "    }\n",
       "</style>\n",
       "<table border=\"1\" class=\"dataframe\">\n",
       "  <thead>\n",
       "    <tr style=\"text-align: right;\">\n",
       "      <th></th>\n",
       "      <th>id</th>\n",
       "      <th>faulty</th>\n",
       "      <th>trq_margin</th>\n",
       "    </tr>\n",
       "  </thead>\n",
       "  <tbody>\n",
       "    <tr>\n",
       "      <th>0</th>\n",
       "      <td>0</td>\n",
       "      <td>1</td>\n",
       "      <td>-13.717745</td>\n",
       "    </tr>\n",
       "    <tr>\n",
       "      <th>1</th>\n",
       "      <td>1</td>\n",
       "      <td>0</td>\n",
       "      <td>1.791863</td>\n",
       "    </tr>\n",
       "    <tr>\n",
       "      <th>2</th>\n",
       "      <td>2</td>\n",
       "      <td>1</td>\n",
       "      <td>-13.944871</td>\n",
       "    </tr>\n",
       "    <tr>\n",
       "      <th>3</th>\n",
       "      <td>3</td>\n",
       "      <td>0</td>\n",
       "      <td>-0.017281</td>\n",
       "    </tr>\n",
       "    <tr>\n",
       "      <th>4</th>\n",
       "      <td>4</td>\n",
       "      <td>0</td>\n",
       "      <td>7.322404</td>\n",
       "    </tr>\n",
       "  </tbody>\n",
       "</table>\n",
       "</div>"
      ],
      "text/plain": [
       "   id  faulty  trq_margin\n",
       "0   0       1  -13.717745\n",
       "1   1       0    1.791863\n",
       "2   2       1  -13.944871\n",
       "3   3       0   -0.017281\n",
       "4   4       0    7.322404"
      ]
     },
     "execution_count": 4,
     "metadata": {},
     "output_type": "execute_result"
    }
   ],
   "source": [
    "y.head()"
   ]
  },
  {
   "cell_type": "code",
   "execution_count": 35,
   "metadata": {},
   "outputs": [],
   "source": [
    "ids = X[\"id\"]\n",
    "X_train = X.drop(\"id\", axis=1)\n",
    "\n",
    "y_trq = y[\"trq_margin\"]\n",
    "y_faulty = y[\"faulty\"]"
   ]
  },
  {
   "cell_type": "code",
   "execution_count": 6,
   "metadata": {},
   "outputs": [
    {
     "data": {
      "text/plain": [
       "742625"
      ]
     },
     "execution_count": 6,
     "metadata": {},
     "output_type": "execute_result"
    }
   ],
   "source": [
    "len(y_trq)"
   ]
  },
  {
   "cell_type": "code",
   "execution_count": 26,
   "metadata": {},
   "outputs": [],
   "source": [
    "X_np = np.array(X_train[:10000])\n",
    "y_trq_np = np.array(y_trq[:10000])\n",
    "y_faulty_np = np.array(y_faulty[:10000])"
   ]
  },
  {
   "cell_type": "code",
   "execution_count": 17,
   "metadata": {},
   "outputs": [
    {
     "data": {
      "text/plain": [
       "10000"
      ]
     },
     "execution_count": 17,
     "metadata": {},
     "output_type": "execute_result"
    }
   ],
   "source": [
    "len(X_np)\n"
   ]
  },
  {
   "cell_type": "code",
   "execution_count": 18,
   "metadata": {},
   "outputs": [
    {
     "data": {
      "application/vnd.jupyter.widget-view+json": {
       "model_id": "d47871871f00448da6f978e86b08431e",
       "version_major": 2,
       "version_minor": 0
      },
      "text/plain": [
       "Epoch:   0%|          | 0/150 [00:00<?, ?it/s]"
      ]
     },
     "metadata": {},
     "output_type": "display_data"
    },
    {
     "name": "stderr",
     "output_type": "stream",
     "text": [
      "c:\\Users\\je009447\\AppData\\Local\\miniconda3\\envs\\bayesnewton\\lib\\site-packages\\linear_operator\\utils\\cholesky.py:40: NumericalWarning: A not p.d., added jitter of 1.0e-08 to the diagonal\n",
      "  warnings.warn(\n"
     ]
    }
   ],
   "source": [
    "model = Model(\n",
    "    X_np, y_trq_np, noise=False, batch_size=512, neurons=50, learning_rate=1e-2\n",
    ")\n",
    "model.fit(epochs=150, verbose=True)"
   ]
  },
  {
   "cell_type": "code",
   "execution_count": 19,
   "metadata": {},
   "outputs": [],
   "source": [
    "y_pred = model.predict(np.array(X_train[10000:15000]))"
   ]
  },
  {
   "cell_type": "code",
   "execution_count": 20,
   "metadata": {},
   "outputs": [],
   "source": [
    "from sklearn.metrics import mean_squared_error\n",
    "mse = mean_squared_error(y_pred, np.array(y_trq[10000:15000]))"
   ]
  },
  {
   "cell_type": "code",
   "execution_count": 21,
   "metadata": {},
   "outputs": [
    {
     "data": {
      "text/plain": [
       "0.11290295152679089"
      ]
     },
     "execution_count": 21,
     "metadata": {},
     "output_type": "execute_result"
    }
   ],
   "source": [
    "mse"
   ]
  },
  {
   "cell_type": "code",
   "execution_count": 23,
   "metadata": {},
   "outputs": [
    {
     "data": {
      "text/plain": [
       "5.320451391219264"
      ]
     },
     "execution_count": 23,
     "metadata": {},
     "output_type": "execute_result"
    }
   ],
   "source": [
    "from sklearn.linear_model import LinearRegression\n",
    "lin = LinearRegression()\n",
    "lin.fit(X_np, y_trq_np)\n",
    "y_pred = lin.predict(np.array(X_train[10000:15000]))\n",
    "mse = mean_squared_error(y_pred, np.array(y_trq[10000:15000]))\n",
    "mse"
   ]
  },
  {
   "cell_type": "code",
   "execution_count": 27,
   "metadata": {},
   "outputs": [
    {
     "name": "stderr",
     "output_type": "stream",
     "text": [
      "c:\\Users\\je009447\\AppData\\Local\\miniconda3\\envs\\bayesnewton\\lib\\site-packages\\torch\\optim\\lr_scheduler.py:28: UserWarning: The verbose parameter is deprecated. Please use get_last_lr() to access the learning rate.\n",
      "  warnings.warn(\"The verbose parameter is deprecated. Please use get_last_lr() \"\n"
     ]
    },
    {
     "data": {
      "application/vnd.jupyter.widget-view+json": {
       "model_id": "7b4961789b3c46caa3c82b561373d2b6",
       "version_major": 2,
       "version_minor": 0
      },
      "text/plain": [
       "Epoch:   0%|          | 0/150 [00:00<?, ?it/s]"
      ]
     },
     "metadata": {},
     "output_type": "display_data"
    },
    {
     "name": "stderr",
     "output_type": "stream",
     "text": [
      "c:\\Users\\je009447\\AppData\\Local\\miniconda3\\envs\\bayesnewton\\lib\\site-packages\\gpytorch\\likelihoods\\gaussian_likelihood.py:300: GPInputWarning: You have passed data through a FixedNoiseGaussianLikelihood that did not match the size of the fixed noise, *and* you did not specify noise. This is treated as a no-op.\n",
      "  warnings.warn(\n",
      "c:\\Users\\je009447\\AppData\\Local\\miniconda3\\envs\\bayesnewton\\lib\\site-packages\\linear_operator\\utils\\cholesky.py:40: NumericalWarning: A not p.d., added jitter of 1.0e-08 to the diagonal\n",
      "  warnings.warn(\n"
     ]
    }
   ],
   "source": [
    "class_model = Model(\n",
    "    X_np, y_faulty_np, noise=False, batch_size=512, neurons=50, learning_rate=1e-2\n",
    ")\n",
    "class_model.fit(epochs=150, verbose=True)"
   ]
  },
  {
   "cell_type": "code",
   "execution_count": 28,
   "metadata": {},
   "outputs": [],
   "source": [
    "y_pred = model.predict(np.array(X_train[10000:15000]))\n",
    "y_pred = np.round(y_pred)"
   ]
  },
  {
   "cell_type": "code",
   "execution_count": null,
   "metadata": {},
   "outputs": [],
   "source": [
    "y_pred, lcb, ucb = model.predict(np.array(X_train[10000:15000]), pred_var=True)"
   ]
  },
  {
   "cell_type": "code",
   "execution_count": 30,
   "metadata": {},
   "outputs": [
    {
     "data": {
      "text/plain": [
       "tensor([[-7.],\n",
       "        [-6.],\n",
       "        [-4.],\n",
       "        ...,\n",
       "        [ 8.],\n",
       "        [14.],\n",
       "        [-4.]], dtype=torch.float64)"
      ]
     },
     "execution_count": 30,
     "metadata": {},
     "output_type": "execute_result"
    }
   ],
   "source": [
    "y_pred"
   ]
  },
  {
   "cell_type": "code",
   "execution_count": 29,
   "metadata": {},
   "outputs": [
    {
     "data": {
      "text/plain": [
       "0.026"
      ]
     },
     "execution_count": 29,
     "metadata": {},
     "output_type": "execute_result"
    }
   ],
   "source": [
    "from sklearn.metrics import accuracy_score\n",
    "acc = accuracy_score(y_pred, np.array(y_faulty[10000:15000]))\n",
    "acc"
   ]
  },
  {
   "cell_type": "code",
   "execution_count": 32,
   "metadata": {},
   "outputs": [
    {
     "name": "stdout",
     "output_type": "stream",
     "text": [
      "0.1910663424724587\n"
     ]
    }
   ],
   "source": [
    "from xgboost import XGBRegressor\n",
    "xgboost = XGBRegressor()\n",
    "xgboost.fit(X_np, y_trq_np)\n",
    "y_pred_xg = xgboost.predict(np.array(X_train[10000:15000]))\n",
    "mse = mean_squared_error(y_pred, np.array(y_trq[10000:15000]))\n",
    "print(mse)"
   ]
  },
  {
   "cell_type": "code",
   "execution_count": 34,
   "metadata": {},
   "outputs": [
    {
     "name": "stdout",
     "output_type": "stream",
     "text": [
      "0.9832\n"
     ]
    }
   ],
   "source": [
    "from xgboost import XGBClassifier\n",
    "\n",
    "xgboost = XGBClassifier()\n",
    "xgboost.fit(X_np, y_faulty_np)\n",
    "y_pred_xg = xgboost.predict(np.array(X_train[10000:15000]))\n",
    "acc = accuracy_score(y_pred_xg, np.array(y_faulty[10000:15000]))\n",
    "print(acc)"
   ]
  },
  {
   "cell_type": "code",
   "execution_count": null,
   "metadata": {},
   "outputs": [],
   "source": [
    "lin = LinearRegression()\n",
    "lin.fit(X_np, y_trq_np)\n",
    "y_pred = lin.predict(np.array(X_train[10000:15000]))\n",
    "mse = mean_squared_error(y_pred, np.array(y_trq[10000:15000]))\n",
    "mse"
   ]
  },
  {
   "cell_type": "code",
   "execution_count": null,
   "metadata": {},
   "outputs": [],
   "source": [
    "error_margin = upper_bound - y_pred_reg\n",
    "se = error_margin/1.96\n",
    "# se is the standard deviation"
   ]
  },
  {
   "cell_type": "code",
   "execution_count": null,
   "metadata": {},
   "outputs": [],
   "source": [
    "output_data = {}\n",
    "for i in ids:\n",
    "    {\n",
    "        \"class\": y_pred_class[i - 1],\n",
    "        \"class_conf\": y_pred_class_conf[i - 1],\n",
    "        \"pdf_type\": \"norm\",\n",
    "        \"pdf_args\": {\"loc\": y_pred_reg, \"scale\": y_pred_reg_dev},\n",
    "    }\n",
    "    output_data[i] = {}"
   ]
  },
  {
   "cell_type": "code",
   "execution_count": null,
   "metadata": {},
   "outputs": [],
   "source": [
    "import json\n",
    "with open(\"output.json\", \"w\") as json_file:\n",
    "    json.dump(output_data, json_file, indent=4)"
   ]
  }
 ],
 "metadata": {
  "kernelspec": {
   "display_name": "bayesnewton",
   "language": "python",
   "name": "python3"
  },
  "language_info": {
   "codemirror_mode": {
    "name": "ipython",
    "version": 3
   },
   "file_extension": ".py",
   "mimetype": "text/x-python",
   "name": "python",
   "nbconvert_exporter": "python",
   "pygments_lexer": "ipython3",
   "version": "3.9.18"
  }
 },
 "nbformat": 4,
 "nbformat_minor": 2
}
