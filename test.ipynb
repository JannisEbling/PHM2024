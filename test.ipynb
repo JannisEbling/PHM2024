{
 "cells": [
  {
   "cell_type": "code",
   "execution_count": 1,
   "metadata": {},
   "outputs": [],
   "source": [
    "import json\n",
    "import pickle\n",
    "\n",
    "import numpy as np\n",
    "import pandas as pd\n",
    "import torch\n",
    "from scipy import stats\n",
    "\n",
    "with open(\"predictions/y_pred_reg_2000.pkl\", \"rb\") as f:\n",
    "    reg_preds = pickle.load(f)\n",
    "with open(\"predictions/class_predictions.pkl\", \"rb\") as f:\n",
    "    class_preds = pickle.load(f)"
   ]
  },
  {
   "cell_type": "code",
   "execution_count": 16,
   "metadata": {},
   "outputs": [
    {
     "data": {
      "text/plain": [
       "[tensor([[9.2709]], dtype=torch.float64),\n",
       " tensor([[8.9380]], dtype=torch.float64),\n",
       " tensor([[8.5971]], dtype=torch.float64),\n",
       " tensor([[9.2003]], dtype=torch.float64),\n",
       " tensor([[8.2386]], dtype=torch.float64),\n",
       " tensor([[8.0336]], dtype=torch.float64),\n",
       " tensor([[8.9644]], dtype=torch.float64),\n",
       " tensor([[8.7292]], dtype=torch.float64),\n",
       " tensor([[8.5579]], dtype=torch.float64),\n",
       " tensor([[2.8362]], dtype=torch.float64)]"
      ]
     },
     "execution_count": 16,
     "metadata": {},
     "output_type": "execute_result"
    }
   ],
   "source": [
    "reg_preds[0]"
   ]
  },
  {
   "cell_type": "code",
   "execution_count": 3,
   "metadata": {},
   "outputs": [],
   "source": [
    "# Concatenate the tensors along the appropriate dimension\n",
    "flattened_tensor_list = [item for sublist in reg_preds for item in sublist]"
   ]
  },
  {
   "cell_type": "code",
   "execution_count": 11,
   "metadata": {},
   "outputs": [],
   "source": [
    "preds = []\n",
    "for j in range(len(flattened_tensor_list)):\n",
    "    if isinstance(flattened_tensor_list[j], bool):\n",
    "        preds.append(flattened_tensor_list[j])\n",
    "        continue\n",
    "    preds.append(flattened_tensor_list[j].numpy()[0][0])"
   ]
  },
  {
   "cell_type": "code",
   "execution_count": 27,
   "metadata": {},
   "outputs": [
    {
     "name": "stdout",
     "output_type": "stream",
     "text": [
      "[[ 9.27094227  8.93795492  8.59709037 ...  8.72924028  8.5579202\n",
      "   2.83623753]\n",
      " [ 1.82612505  1.62816567  1.94056469 ...  2.50960277  1.6865316\n",
      "   1.90979697]\n",
      " [-3.33576015 -5.03238398 -4.62953495 ... -3.27101134 -0.11896646\n",
      "  -6.32220861]\n",
      " ...\n",
      " [-3.40987781 -8.0824008  -8.22443831 ... -9.22857166 -5.2933497\n",
      "  -5.26144869]\n",
      " [16.52339519 16.46747191 16.45167346 ... 16.30263355 16.50970616\n",
      "  16.0322107 ]\n",
      " [12.60661496 12.43208853 13.08309928 ... 12.39090511 12.53098172\n",
      "  12.74558435]]\n",
      "[[ 9.27094227  8.93795492  8.59709037 ...  8.72924028  8.5579202\n",
      "   0.        ]\n",
      " [ 1.82612505  1.62816567  1.94056469 ...  2.50960277  1.6865316\n",
      "   1.90979697]\n",
      " [-3.33576015 -5.03238398 -4.62953495 ... -3.27101134  0.\n",
      "  -6.32220861]\n",
      " ...\n",
      " [-3.40987781 -8.0824008  -8.22443831 ... -9.22857166 -5.2933497\n",
      "  -5.26144869]\n",
      " [16.52339519 16.46747191 16.45167346 ... 16.30263355 16.50970616\n",
      "   0.        ]\n",
      " [12.60661496 12.43208853 13.08309928 ... 12.39090511 12.53098172\n",
      "  12.74558435]]\n"
     ]
    }
   ],
   "source": [
    "y_preds_10 = np.array(preds).reshape(-1, 10)\n",
    "\n",
    "# Calculate the Z-scores\n",
    "z_scores = stats.zscore(\n",
    "    y_preds_10, axis=1\n",
    ")  # Calculate Z-scores for the entire array\n",
    "\n",
    "# Create a boolean mask where elements with |Z-score| > 3 are True\n",
    "outliers_mask = np.abs(z_scores) > 2.5\n",
    "\n",
    "# Convert outliers to False\n",
    "y_preds_10[outliers_mask] = False\n",
    "\n",
    "print(y_preds_10)"
   ]
  },
  {
   "cell_type": "code",
   "execution_count": 33,
   "metadata": {},
   "outputs": [
    {
     "name": "stderr",
     "output_type": "stream",
     "text": [
      "C:\\Users\\je009447\\AppData\\Local\\Temp\\ipykernel_19332\\2308121848.py:4: RuntimeWarning: Mean of empty slice\n",
      "  row_means = np.nanmean(y_preds_10.astype(float), axis=1)\n",
      "c:\\Users\\je009447\\AppData\\Local\\miniconda3\\envs\\django_outlierdetection\\Lib\\site-packages\\numpy\\lib\\nanfunctions.py:1879: RuntimeWarning: Degrees of freedom <= 0 for slice.\n",
      "  var = nanvar(a, axis=axis, dtype=dtype, out=out, ddof=ddof,\n"
     ]
    }
   ],
   "source": [
    "y_preds_10[y_preds_10 == 0] = None\n",
    "\n",
    "# Calculate the mean of each row, ignoring None values (use np.nanmean)\n",
    "row_means = np.nanmean(y_preds_10.astype(float), axis=1)\n",
    "row_stds = np.nanstd(y_preds_10.astype(float), axis=1)\n",
    "class_preds = class_preds[:2000]"
   ]
  },
  {
   "cell_type": "code",
   "execution_count": 52,
   "metadata": {},
   "outputs": [],
   "source": [
    "output_data = {}\n",
    "for i in range(len(row_means)):\n",
    "\n",
    "    output_data[i] = {\n",
    "            #\"class\": np.int64(class_preds[i]),\n",
    "            \"class_conf\": 1,\n",
    "            \"pdf_type\": \"norm\",\n",
    "            \"pdf_args\": {\"loc\": row_means[i], \"scale\": row_stds[i]},\n",
    "    }"
   ]
  },
  {
   "cell_type": "code",
   "execution_count": 53,
   "metadata": {},
   "outputs": [
    {
     "ename": "AttributeError",
     "evalue": "'int' object has no attribute 'dtype'",
     "output_type": "error",
     "traceback": [
      "\u001b[1;31m---------------------------------------------------------------------------\u001b[0m",
      "\u001b[1;31mAttributeError\u001b[0m                            Traceback (most recent call last)",
      "Cell \u001b[1;32mIn[53], line 1\u001b[0m\n\u001b[1;32m----> 1\u001b[0m \u001b[43moutput_data\u001b[49m\u001b[43m[\u001b[49m\u001b[38;5;241;43m0\u001b[39;49m\u001b[43m]\u001b[49m\u001b[43m[\u001b[49m\u001b[38;5;124;43m\"\u001b[39;49m\u001b[38;5;124;43mclass_conf\u001b[39;49m\u001b[38;5;124;43m\"\u001b[39;49m\u001b[43m]\u001b[49m\u001b[38;5;241;43m.\u001b[39;49m\u001b[43mdtype\u001b[49m\n",
      "\u001b[1;31mAttributeError\u001b[0m: 'int' object has no attribute 'dtype'"
     ]
    }
   ],
   "source": [
    "output_data[0][\"class_conf\"].dtype"
   ]
  },
  {
   "cell_type": "code",
   "execution_count": 54,
   "metadata": {},
   "outputs": [],
   "source": [
    "json_file_path = \"submission.json\"\n",
    "\n",
    "# Save dictionary to JSON file\n",
    "with open(json_file_path, \"w\") as json_file:\n",
    "    json.dump(output_data, json_file, indent=4)"
   ]
  }
 ],
 "metadata": {
  "kernelspec": {
   "display_name": "django_outlierdetection",
   "language": "python",
   "name": "python3"
  },
  "language_info": {
   "codemirror_mode": {
    "name": "ipython",
    "version": 3
   },
   "file_extension": ".py",
   "mimetype": "text/x-python",
   "name": "python",
   "nbconvert_exporter": "python",
   "pygments_lexer": "ipython3",
   "version": "3.11.5"
  }
 },
 "nbformat": 4,
 "nbformat_minor": 2
}
